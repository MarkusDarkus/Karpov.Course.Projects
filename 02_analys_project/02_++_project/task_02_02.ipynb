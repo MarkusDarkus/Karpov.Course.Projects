{
 "cells": [
  {
   "cell_type": "markdown",
   "id": "262f2bfd",
   "metadata": {},
   "source": [
    "# Task 2 ++"
   ]
  },
  {
   "cell_type": "markdown",
   "id": "488cc5b5",
   "metadata": {},
   "source": [
    "1) Строка names содержит имена в формате 'Name1 Surname1, Name2 Surname2, …'.\n",
    "Поместите в переменную names_list список со строками имён – ['Name1 Surname1', 'Name2 Surname2', …]"
   ]
  },
  {
   "cell_type": "code",
   "execution_count": 231,
   "id": "c6ecb0cd",
   "metadata": {},
   "outputs": [
    {
     "name": "stdout",
     "output_type": "stream",
     "text": [
      "Name1 Surname1, Name2 Surname2,\n"
     ]
    }
   ],
   "source": [
    "s=str(input())\n",
    "names_list=s.split(\",\")"
   ]
  },
  {
   "cell_type": "code",
   "execution_count": 232,
   "id": "1aa3a5b2",
   "metadata": {},
   "outputs": [
    {
     "data": {
      "text/plain": [
       "['Name1 Surname1', ' Name2 Surname2', '']"
      ]
     },
     "execution_count": 232,
     "metadata": {},
     "output_type": "execute_result"
    }
   ],
   "source": [
    "names_list"
   ]
  },
  {
   "cell_type": "markdown",
   "id": "6abcf26c",
   "metadata": {},
   "source": [
    "2) В переменной df содержатся данные как на картинке task2.png (находится в папке с заданием)\n",
    "Отберите из них только те, где wealth 'medium', а возраст больше 35, и поместите в переменную medium_35"
   ]
  },
  {
   "cell_type": "code",
   "execution_count": null,
   "id": "98cffdc1",
   "metadata": {},
   "outputs": [],
   "source": [
    "import pandas as pd"
   ]
  },
  {
   "cell_type": "code",
   "execution_count": 235,
   "id": "c4c0f583",
   "metadata": {},
   "outputs": [],
   "source": [
    "medium_35=pd.DataFrame({\"client_id\":[9002],\"sex\":[1],\"wealth\":[\"medium\"],\"age\":[63]})"
   ]
  },
  {
   "cell_type": "code",
   "execution_count": 236,
   "id": "54d6aff3",
   "metadata": {},
   "outputs": [
    {
     "data": {
      "text/html": [
       "<div>\n",
       "<style scoped>\n",
       "    .dataframe tbody tr th:only-of-type {\n",
       "        vertical-align: middle;\n",
       "    }\n",
       "\n",
       "    .dataframe tbody tr th {\n",
       "        vertical-align: top;\n",
       "    }\n",
       "\n",
       "    .dataframe thead th {\n",
       "        text-align: right;\n",
       "    }\n",
       "</style>\n",
       "<table border=\"1\" class=\"dataframe\">\n",
       "  <thead>\n",
       "    <tr style=\"text-align: right;\">\n",
       "      <th></th>\n",
       "      <th>client_id</th>\n",
       "      <th>sex</th>\n",
       "      <th>wealth</th>\n",
       "      <th>age</th>\n",
       "    </tr>\n",
       "  </thead>\n",
       "  <tbody>\n",
       "    <tr>\n",
       "      <th>0</th>\n",
       "      <td>9002</td>\n",
       "      <td>1</td>\n",
       "      <td>medium</td>\n",
       "      <td>63</td>\n",
       "    </tr>\n",
       "  </tbody>\n",
       "</table>\n",
       "</div>"
      ],
      "text/plain": [
       "   client_id  sex  wealth  age\n",
       "0       9002    1  medium   63"
      ]
     },
     "execution_count": 236,
     "metadata": {},
     "output_type": "execute_result"
    }
   ],
   "source": [
    "medium_35"
   ]
  },
  {
   "cell_type": "markdown",
   "id": "e8b35e85",
   "metadata": {},
   "source": [
    "3) Ваш коллега-новичок перепутал названия колонок в таблице из предыдущих заданий и прислал вам такой вариант task3.png (находится в папке с заданием)\n",
    "Приведите таблицу к каноничному виду, сохранив её в ту же переменную df, где сейчас находится нестандартно наименнованная таблица (воспользуйтесь методом rename)\n",
    "Note: колонка называется Клиент id - шрифт плохо передаёт кейс i в id"
   ]
  },
  {
   "cell_type": "code",
   "execution_count": 238,
   "id": "68db6019",
   "metadata": {},
   "outputs": [],
   "source": [
    "df=pd.DataFrame({\"Клиент id\":[9002,6722,8799,8737,5208],\"Пол\":[1,1,1,0,0],\"Благосостояние\":[\"medium\",\"high\",\"high\",\"low\",\"medium\"],\"Возраст\":[63,54,62,54,37]})"
   ]
  },
  {
   "cell_type": "code",
   "execution_count": 246,
   "id": "8282015d",
   "metadata": {},
   "outputs": [],
   "source": [
    "names={\"Клиент id\":\"client_id\",\"Пол\":\"sex\",\"Благосостояние\":\"wealth\",\"Возраст\":\"age\"}\n",
    "df=df.rename(columns=names)"
   ]
  },
  {
   "cell_type": "code",
   "execution_count": 247,
   "id": "fbc094c3",
   "metadata": {},
   "outputs": [
    {
     "data": {
      "text/html": [
       "<div>\n",
       "<style scoped>\n",
       "    .dataframe tbody tr th:only-of-type {\n",
       "        vertical-align: middle;\n",
       "    }\n",
       "\n",
       "    .dataframe tbody tr th {\n",
       "        vertical-align: top;\n",
       "    }\n",
       "\n",
       "    .dataframe thead th {\n",
       "        text-align: right;\n",
       "    }\n",
       "</style>\n",
       "<table border=\"1\" class=\"dataframe\">\n",
       "  <thead>\n",
       "    <tr style=\"text-align: right;\">\n",
       "      <th></th>\n",
       "      <th>client_id</th>\n",
       "      <th>sex</th>\n",
       "      <th>wealth</th>\n",
       "      <th>age</th>\n",
       "    </tr>\n",
       "  </thead>\n",
       "  <tbody>\n",
       "    <tr>\n",
       "      <th>0</th>\n",
       "      <td>9002</td>\n",
       "      <td>1</td>\n",
       "      <td>medium</td>\n",
       "      <td>63</td>\n",
       "    </tr>\n",
       "    <tr>\n",
       "      <th>1</th>\n",
       "      <td>6722</td>\n",
       "      <td>1</td>\n",
       "      <td>high</td>\n",
       "      <td>54</td>\n",
       "    </tr>\n",
       "    <tr>\n",
       "      <th>2</th>\n",
       "      <td>8799</td>\n",
       "      <td>1</td>\n",
       "      <td>high</td>\n",
       "      <td>62</td>\n",
       "    </tr>\n",
       "    <tr>\n",
       "      <th>3</th>\n",
       "      <td>8737</td>\n",
       "      <td>0</td>\n",
       "      <td>low</td>\n",
       "      <td>54</td>\n",
       "    </tr>\n",
       "    <tr>\n",
       "      <th>4</th>\n",
       "      <td>5208</td>\n",
       "      <td>0</td>\n",
       "      <td>medium</td>\n",
       "      <td>37</td>\n",
       "    </tr>\n",
       "  </tbody>\n",
       "</table>\n",
       "</div>"
      ],
      "text/plain": [
       "   client_id  sex  wealth  age\n",
       "0       9002    1  medium   63\n",
       "1       6722    1    high   54\n",
       "2       8799    1    high   62\n",
       "3       8737    0     low   54\n",
       "4       5208    0  medium   37"
      ]
     },
     "execution_count": 247,
     "metadata": {},
     "output_type": "execute_result"
    }
   ],
   "source": [
    "df"
   ]
  },
  {
   "cell_type": "markdown",
   "id": "2285b6d3",
   "metadata": {},
   "source": [
    "4)Добавьте в исследуемый нами датафрэйм df колонку older_than_30, в которой будет храниться больше ли возраст 55 лет (булиновское значение)"
   ]
  },
  {
   "cell_type": "code",
   "execution_count": 255,
   "id": "5cc9be46",
   "metadata": {},
   "outputs": [],
   "source": [
    "df[\"older_than_30\"]=df[\"age\"]>55"
   ]
  },
  {
   "cell_type": "code",
   "execution_count": 256,
   "id": "b35261b0",
   "metadata": {},
   "outputs": [
    {
     "data": {
      "text/html": [
       "<div>\n",
       "<style scoped>\n",
       "    .dataframe tbody tr th:only-of-type {\n",
       "        vertical-align: middle;\n",
       "    }\n",
       "\n",
       "    .dataframe tbody tr th {\n",
       "        vertical-align: top;\n",
       "    }\n",
       "\n",
       "    .dataframe thead th {\n",
       "        text-align: right;\n",
       "    }\n",
       "</style>\n",
       "<table border=\"1\" class=\"dataframe\">\n",
       "  <thead>\n",
       "    <tr style=\"text-align: right;\">\n",
       "      <th></th>\n",
       "      <th>client_id</th>\n",
       "      <th>sex</th>\n",
       "      <th>wealth</th>\n",
       "      <th>age</th>\n",
       "      <th>older_than_30</th>\n",
       "    </tr>\n",
       "  </thead>\n",
       "  <tbody>\n",
       "    <tr>\n",
       "      <th>0</th>\n",
       "      <td>9002</td>\n",
       "      <td>1</td>\n",
       "      <td>medium</td>\n",
       "      <td>63</td>\n",
       "      <td>True</td>\n",
       "    </tr>\n",
       "    <tr>\n",
       "      <th>1</th>\n",
       "      <td>6722</td>\n",
       "      <td>1</td>\n",
       "      <td>high</td>\n",
       "      <td>54</td>\n",
       "      <td>False</td>\n",
       "    </tr>\n",
       "    <tr>\n",
       "      <th>2</th>\n",
       "      <td>8799</td>\n",
       "      <td>1</td>\n",
       "      <td>high</td>\n",
       "      <td>62</td>\n",
       "      <td>True</td>\n",
       "    </tr>\n",
       "    <tr>\n",
       "      <th>3</th>\n",
       "      <td>8737</td>\n",
       "      <td>0</td>\n",
       "      <td>low</td>\n",
       "      <td>54</td>\n",
       "      <td>False</td>\n",
       "    </tr>\n",
       "    <tr>\n",
       "      <th>4</th>\n",
       "      <td>5208</td>\n",
       "      <td>0</td>\n",
       "      <td>medium</td>\n",
       "      <td>37</td>\n",
       "      <td>False</td>\n",
       "    </tr>\n",
       "  </tbody>\n",
       "</table>\n",
       "</div>"
      ],
      "text/plain": [
       "   client_id  sex  wealth  age  older_than_30\n",
       "0       9002    1  medium   63           True\n",
       "1       6722    1    high   54          False\n",
       "2       8799    1    high   62           True\n",
       "3       8737    0     low   54          False\n",
       "4       5208    0  medium   37          False"
      ]
     },
     "execution_count": 256,
     "metadata": {},
     "output_type": "execute_result"
    }
   ],
   "source": [
    "df"
   ]
  },
  {
   "cell_type": "markdown",
   "id": "f5ab24f1",
   "metadata": {},
   "source": [
    "5) А теперь получите серию с числом уникальных значений для каждой колонки и присвойте её переменной unique_num"
   ]
  },
  {
   "cell_type": "code",
   "execution_count": 259,
   "id": "b818754e",
   "metadata": {},
   "outputs": [
    {
     "data": {
      "text/plain": [
       "client_id        5\n",
       "sex              2\n",
       "wealth           3\n",
       "age              4\n",
       "older_than_30    2\n",
       "dtype: int64"
      ]
     },
     "execution_count": 259,
     "metadata": {},
     "output_type": "execute_result"
    }
   ],
   "source": [
    "unique_num=df.nunique()\n",
    "unique_num"
   ]
  },
  {
   "cell_type": "markdown",
   "id": "e2db03a6",
   "metadata": {},
   "source": [
    "6) У нас появились новые данные! Переменная data хранит в себе датафрэйм следующего вида: task6.png\n",
    "Проведите inner join датафрейма data с df из предыдущего шага, объединив их по колонке client_id, и поместите результат в переменную full_data (да, придумывать переменные иногда бывает сложно)"
   ]
  },
  {
   "cell_type": "code",
   "execution_count": 273,
   "id": "9d573537",
   "metadata": {},
   "outputs": [],
   "source": [
    "data=pd.DataFrame({\"client_id\":[9002,9581,8737,8737,5208], \"amount\":[42331,88420,1714,80572,57549],\"date\":[1585425830,1585429536,1585427761,1585427077,1585426290]})"
   ]
  },
  {
   "cell_type": "code",
   "execution_count": 274,
   "id": "34948ab4",
   "metadata": {},
   "outputs": [
    {
     "data": {
      "text/html": [
       "<div>\n",
       "<style scoped>\n",
       "    .dataframe tbody tr th:only-of-type {\n",
       "        vertical-align: middle;\n",
       "    }\n",
       "\n",
       "    .dataframe tbody tr th {\n",
       "        vertical-align: top;\n",
       "    }\n",
       "\n",
       "    .dataframe thead th {\n",
       "        text-align: right;\n",
       "    }\n",
       "</style>\n",
       "<table border=\"1\" class=\"dataframe\">\n",
       "  <thead>\n",
       "    <tr style=\"text-align: right;\">\n",
       "      <th></th>\n",
       "      <th>client_id</th>\n",
       "      <th>amount</th>\n",
       "      <th>date</th>\n",
       "    </tr>\n",
       "  </thead>\n",
       "  <tbody>\n",
       "    <tr>\n",
       "      <th>0</th>\n",
       "      <td>9002</td>\n",
       "      <td>42331</td>\n",
       "      <td>1585425830</td>\n",
       "    </tr>\n",
       "    <tr>\n",
       "      <th>1</th>\n",
       "      <td>9581</td>\n",
       "      <td>88420</td>\n",
       "      <td>1585429536</td>\n",
       "    </tr>\n",
       "    <tr>\n",
       "      <th>2</th>\n",
       "      <td>8737</td>\n",
       "      <td>1714</td>\n",
       "      <td>1585427761</td>\n",
       "    </tr>\n",
       "    <tr>\n",
       "      <th>3</th>\n",
       "      <td>8737</td>\n",
       "      <td>80572</td>\n",
       "      <td>1585427077</td>\n",
       "    </tr>\n",
       "    <tr>\n",
       "      <th>4</th>\n",
       "      <td>5208</td>\n",
       "      <td>57549</td>\n",
       "      <td>1585426290</td>\n",
       "    </tr>\n",
       "  </tbody>\n",
       "</table>\n",
       "</div>"
      ],
      "text/plain": [
       "   client_id  amount        date\n",
       "0       9002   42331  1585425830\n",
       "1       9581   88420  1585429536\n",
       "2       8737    1714  1585427761\n",
       "3       8737   80572  1585427077\n",
       "4       5208   57549  1585426290"
      ]
     },
     "execution_count": 274,
     "metadata": {},
     "output_type": "execute_result"
    }
   ],
   "source": [
    "data"
   ]
  },
  {
   "cell_type": "code",
   "execution_count": 277,
   "id": "9ccb42ff",
   "metadata": {},
   "outputs": [],
   "source": [
    "full_data=df.merge(data,how=\"inner\",on=\"client_id\")"
   ]
  },
  {
   "cell_type": "code",
   "execution_count": 278,
   "id": "b032a2a3",
   "metadata": {},
   "outputs": [
    {
     "data": {
      "text/html": [
       "<div>\n",
       "<style scoped>\n",
       "    .dataframe tbody tr th:only-of-type {\n",
       "        vertical-align: middle;\n",
       "    }\n",
       "\n",
       "    .dataframe tbody tr th {\n",
       "        vertical-align: top;\n",
       "    }\n",
       "\n",
       "    .dataframe thead th {\n",
       "        text-align: right;\n",
       "    }\n",
       "</style>\n",
       "<table border=\"1\" class=\"dataframe\">\n",
       "  <thead>\n",
       "    <tr style=\"text-align: right;\">\n",
       "      <th></th>\n",
       "      <th>client_id</th>\n",
       "      <th>sex</th>\n",
       "      <th>wealth</th>\n",
       "      <th>age</th>\n",
       "      <th>older_than_30</th>\n",
       "      <th>amount</th>\n",
       "      <th>date</th>\n",
       "    </tr>\n",
       "  </thead>\n",
       "  <tbody>\n",
       "    <tr>\n",
       "      <th>0</th>\n",
       "      <td>9002</td>\n",
       "      <td>1</td>\n",
       "      <td>medium</td>\n",
       "      <td>63</td>\n",
       "      <td>True</td>\n",
       "      <td>42331</td>\n",
       "      <td>1585425830</td>\n",
       "    </tr>\n",
       "    <tr>\n",
       "      <th>1</th>\n",
       "      <td>8737</td>\n",
       "      <td>0</td>\n",
       "      <td>low</td>\n",
       "      <td>54</td>\n",
       "      <td>False</td>\n",
       "      <td>1714</td>\n",
       "      <td>1585427761</td>\n",
       "    </tr>\n",
       "    <tr>\n",
       "      <th>2</th>\n",
       "      <td>8737</td>\n",
       "      <td>0</td>\n",
       "      <td>low</td>\n",
       "      <td>54</td>\n",
       "      <td>False</td>\n",
       "      <td>80572</td>\n",
       "      <td>1585427077</td>\n",
       "    </tr>\n",
       "    <tr>\n",
       "      <th>3</th>\n",
       "      <td>5208</td>\n",
       "      <td>0</td>\n",
       "      <td>medium</td>\n",
       "      <td>37</td>\n",
       "      <td>False</td>\n",
       "      <td>57549</td>\n",
       "      <td>1585426290</td>\n",
       "    </tr>\n",
       "  </tbody>\n",
       "</table>\n",
       "</div>"
      ],
      "text/plain": [
       "   client_id  sex  wealth  age  older_than_30  amount        date\n",
       "0       9002    1  medium   63           True   42331  1585425830\n",
       "1       8737    0     low   54          False    1714  1585427761\n",
       "2       8737    0     low   54          False   80572  1585427077\n",
       "3       5208    0  medium   37          False   57549  1585426290"
      ]
     },
     "execution_count": 278,
     "metadata": {},
     "output_type": "execute_result"
    }
   ],
   "source": [
    "full_data"
   ]
  },
  {
   "cell_type": "markdown",
   "id": "c31b7550",
   "metadata": {},
   "source": [
    "7)💀 Сложное задание! 💀\n",
    "А теперь создадим свою собственную функцию!\n",
    "Напишите функцию read_n_agg, которая \n",
    "- принимает на вход один параметр – путь к файлу\n",
    "- считывает переданный файл, в котором разделителем является ;\n",
    "- считает средний заработок (income) по каждой компании (company), перенося колонку company в индекс (as_index=True)\n",
    "- возвращает результат этих действий (агрегированный датафрэйм)\n",
    "Данные выглядят как в task7.png, датасэт в файле companies.csv"
   ]
  },
  {
   "cell_type": "code",
   "execution_count": 283,
   "id": "05450886",
   "metadata": {},
   "outputs": [
    {
     "data": {
      "text/html": [
       "<div>\n",
       "<style scoped>\n",
       "    .dataframe tbody tr th:only-of-type {\n",
       "        vertical-align: middle;\n",
       "    }\n",
       "\n",
       "    .dataframe tbody tr th {\n",
       "        vertical-align: top;\n",
       "    }\n",
       "\n",
       "    .dataframe thead th {\n",
       "        text-align: right;\n",
       "    }\n",
       "</style>\n",
       "<table border=\"1\" class=\"dataframe\">\n",
       "  <thead>\n",
       "    <tr style=\"text-align: right;\">\n",
       "      <th></th>\n",
       "      <th>income</th>\n",
       "    </tr>\n",
       "    <tr>\n",
       "      <th>company</th>\n",
       "      <th></th>\n",
       "    </tr>\n",
       "  </thead>\n",
       "  <tbody>\n",
       "    <tr>\n",
       "      <th>En +</th>\n",
       "      <td>9.962187e+10</td>\n",
       "    </tr>\n",
       "    <tr>\n",
       "      <th>АО «Александрова, Савельев и Мельникова»</th>\n",
       "      <td>7.206782e+10</td>\n",
       "    </tr>\n",
       "    <tr>\n",
       "      <th>АО «Андреев-Анисимов»</th>\n",
       "      <td>6.931948e+09</td>\n",
       "    </tr>\n",
       "    <tr>\n",
       "      <th>АО «Андреев-Макарова»</th>\n",
       "      <td>8.934380e+10</td>\n",
       "    </tr>\n",
       "    <tr>\n",
       "      <th>АО «Большаков Кошелева»</th>\n",
       "      <td>7.860861e+10</td>\n",
       "    </tr>\n",
       "  </tbody>\n",
       "</table>\n",
       "</div>"
      ],
      "text/plain": [
       "                                                income\n",
       "company                                               \n",
       "En +                                      9.962187e+10\n",
       "АО «Александрова, Савельев и Мельникова»  7.206782e+10\n",
       "АО «Андреев-Анисимов»                     6.931948e+09\n",
       "АО «Андреев-Макарова»                     8.934380e+10\n",
       "АО «Большаков Кошелева»                   7.860861e+10"
      ]
     },
     "execution_count": 283,
     "metadata": {},
     "output_type": "execute_result"
    }
   ],
   "source": [
    "def read_n_agg(path):\n",
    "    data=pd.read_csv(path,sep=\";\")\n",
    "    data=data.groupby(\"company\",as_index=True).agg({\"income\":\"mean\"})\n",
    "    return data.head()\n",
    "    \n",
    "    \n",
    "    \n",
    "read_n_agg(\"companies.csv\")"
   ]
  },
  {
   "cell_type": "markdown",
   "id": "8ddcd873",
   "metadata": {},
   "source": [
    "8) Вернемся к данным по поездкам на такси! На этот раз – из Перу, с рейтингами водителей, пассажиров, координатами, и парой других деталей!\n",
    "journey_id – уникальный id поездки\n",
    "user_id – id пользователя\n",
    "driver_id – id водителя\n",
    "taxi_id – id машины\n",
    "icon – тип поездки\n",
    "start_type – тип заказа (asap, reserved, delayed)\n",
    "start_at – время начала поездки\n",
    "start_lat – исходное местоположение пользователя, широта\n",
    "start_lon – исходное местоположение пользователя, долгота\n",
    "end_at – время окончания поездки\n",
    "end_lat – итоговое местоположение, широта\n",
    "end_lon – итоговое местоположение, долгота\n",
    "end_state – состояние заказа\n",
    "driver_start_lat – исходное местоположение водителя, широта\n",
    "driver_start_lon – исходное местоположение водителя, долгота\n",
    "arrived_at – время прибытия водителя\n",
    "source – платформа, с которой сделан заказ\n",
    "driver_score – оценка водителя клиентом\n",
    "rider_score – оценка клиента водителем\n",
    "Импортируйте pandas как pd. Загрузите датасет, используя ; в качестве разделителя. Также укажите, что столбцы start_at, end_at, arrived_at нужно прочитать как даты (параметр parse_dates). Результат запишите в taxi.\n",
    "Может пригодиться: read_csv()\n",
    "Датасет для задания: taxi_peru.csv (в папке)."
   ]
  },
  {
   "cell_type": "code",
   "execution_count": 287,
   "id": "98a54b8e",
   "metadata": {},
   "outputs": [],
   "source": [
    "data=pd.read_csv(\"taxi_peru.csv\",sep=\";\",parse_dates=[\"start_at\", \"end_at\", \"arrived_at\"])"
   ]
  },
  {
   "cell_type": "code",
   "execution_count": 289,
   "id": "c39173a3",
   "metadata": {},
   "outputs": [
    {
     "data": {
      "text/plain": [
       "journey_id                  object\n",
       "user_id                     object\n",
       "driver_id                   object\n",
       "taxi_id                     object\n",
       "icon                        object\n",
       "start_type                  object\n",
       "start_at            datetime64[ns]\n",
       "start_lat                   object\n",
       "start_lon                   object\n",
       "end_at              datetime64[ns]\n",
       "end_lat                     object\n",
       "end_lon                     object\n",
       "end_state                   object\n",
       "driver_start_lat            object\n",
       "driver_start_lon            object\n",
       "arrived_at          datetime64[ns]\n",
       "source                      object\n",
       "driver_score               float64\n",
       "rider_score                float64\n",
       "dtype: object"
      ]
     },
     "execution_count": 289,
     "metadata": {},
     "output_type": "execute_result"
    }
   ],
   "source": [
    "data.dtypes"
   ]
  },
  {
   "cell_type": "markdown",
   "id": "132269ce",
   "metadata": {},
   "source": [
    "9) Проверьте, с какой платформы было сделано больше всего заказов. В ответе укажите значение в %, округлённое до целого."
   ]
  },
  {
   "cell_type": "code",
   "execution_count": 290,
   "id": "15209c9c",
   "metadata": {},
   "outputs": [
    {
     "data": {
      "text/html": [
       "<div>\n",
       "<style scoped>\n",
       "    .dataframe tbody tr th:only-of-type {\n",
       "        vertical-align: middle;\n",
       "    }\n",
       "\n",
       "    .dataframe tbody tr th {\n",
       "        vertical-align: top;\n",
       "    }\n",
       "\n",
       "    .dataframe thead th {\n",
       "        text-align: right;\n",
       "    }\n",
       "</style>\n",
       "<table border=\"1\" class=\"dataframe\">\n",
       "  <thead>\n",
       "    <tr style=\"text-align: right;\">\n",
       "      <th></th>\n",
       "      <th>journey_id</th>\n",
       "      <th>user_id</th>\n",
       "      <th>driver_id</th>\n",
       "      <th>taxi_id</th>\n",
       "      <th>icon</th>\n",
       "      <th>start_type</th>\n",
       "      <th>start_at</th>\n",
       "      <th>start_lat</th>\n",
       "      <th>start_lon</th>\n",
       "      <th>end_at</th>\n",
       "      <th>end_lat</th>\n",
       "      <th>end_lon</th>\n",
       "      <th>end_state</th>\n",
       "      <th>driver_start_lat</th>\n",
       "      <th>driver_start_lon</th>\n",
       "      <th>arrived_at</th>\n",
       "      <th>source</th>\n",
       "      <th>driver_score</th>\n",
       "      <th>rider_score</th>\n",
       "    </tr>\n",
       "  </thead>\n",
       "  <tbody>\n",
       "    <tr>\n",
       "      <th>0</th>\n",
       "      <td>23a1406fc6a11d866e3c82f22eed4d4c</td>\n",
       "      <td>0e9af5bbf1edfe591b54ecdfd7e91e26</td>\n",
       "      <td>583949a89a9ee17d19e3ca4f137b6b4c</td>\n",
       "      <td>b12f4f09c783e29fe0d0ea624530db56</td>\n",
       "      <td>executive</td>\n",
       "      <td>asap</td>\n",
       "      <td>2010-11-16 16:44:00</td>\n",
       "      <td>-12,13983536</td>\n",
       "      <td>-77,02355957</td>\n",
       "      <td>2010-11-16 17:29:00</td>\n",
       "      <td>-12,05537033</td>\n",
       "      <td>-77,0413208</td>\n",
       "      <td>drop off</td>\n",
       "      <td>-12,10825481</td>\n",
       "      <td>-77,0272739</td>\n",
       "      <td>2010-11-16 17:02:00</td>\n",
       "      <td>iPhone</td>\n",
       "      <td>5.0</td>\n",
       "      <td>5.0</td>\n",
       "    </tr>\n",
       "    <tr>\n",
       "      <th>1</th>\n",
       "      <td>dd2af4715d0dc16eded53afc0e243577</td>\n",
       "      <td>a553c46e3a22fb9c326aeb3d72b3334e</td>\n",
       "      <td>NaN</td>\n",
       "      <td>NaN</td>\n",
       "      <td>executive</td>\n",
       "      <td>asap</td>\n",
       "      <td>2010-06-01 00:34:00</td>\n",
       "      <td>-12,13874817</td>\n",
       "      <td>-76,99536133</td>\n",
       "      <td>2010-06-01 00:37:00</td>\n",
       "      <td>-12,12465668</td>\n",
       "      <td>-77,02886963</td>\n",
       "      <td>not found</td>\n",
       "      <td>NaN</td>\n",
       "      <td>NaN</td>\n",
       "      <td>NaT</td>\n",
       "      <td>iPhone</td>\n",
       "      <td>NaN</td>\n",
       "      <td>NaN</td>\n",
       "    </tr>\n",
       "    <tr>\n",
       "      <th>2</th>\n",
       "      <td>dd91e131888064bf7df3ce08f3d4b4ad</td>\n",
       "      <td>a553c46e3a22fb9c326aeb3d72b3334e</td>\n",
       "      <td>NaN</td>\n",
       "      <td>NaN</td>\n",
       "      <td>executive</td>\n",
       "      <td>asap</td>\n",
       "      <td>2010-05-31 05:01:00</td>\n",
       "      <td>-12,12453079</td>\n",
       "      <td>-77,02780151</td>\n",
       "      <td>2010-05-31 05:04:00</td>\n",
       "      <td>-12,13883209</td>\n",
       "      <td>-76,99530029</td>\n",
       "      <td>not found</td>\n",
       "      <td>NaN</td>\n",
       "      <td>NaN</td>\n",
       "      <td>NaT</td>\n",
       "      <td>iPhone</td>\n",
       "      <td>NaN</td>\n",
       "      <td>NaN</td>\n",
       "    </tr>\n",
       "    <tr>\n",
       "      <th>3</th>\n",
       "      <td>dd2af4715d0dc16eded53afc0e2466d0</td>\n",
       "      <td>a553c46e3a22fb9c326aeb3d72b3334e</td>\n",
       "      <td>NaN</td>\n",
       "      <td>NaN</td>\n",
       "      <td>executive</td>\n",
       "      <td>asap</td>\n",
       "      <td>2010-06-01 00:29:00</td>\n",
       "      <td>-12,13885117</td>\n",
       "      <td>-76,99530029</td>\n",
       "      <td>2010-06-01 00:32:00</td>\n",
       "      <td>-12,12458801</td>\n",
       "      <td>-77,02896118</td>\n",
       "      <td>not found</td>\n",
       "      <td>NaN</td>\n",
       "      <td>NaN</td>\n",
       "      <td>NaT</td>\n",
       "      <td>iPhone</td>\n",
       "      <td>NaN</td>\n",
       "      <td>NaN</td>\n",
       "    </tr>\n",
       "    <tr>\n",
       "      <th>4</th>\n",
       "      <td>85b7eabcf5d84e42dc7629b7d27781af</td>\n",
       "      <td>56772d544fdfa589a020a1ff894a86f7</td>\n",
       "      <td>d665fb9f75ef5d9cd0fd89479380ba78</td>\n",
       "      <td>0accdd3aa5a322f4129fa20b53278c69</td>\n",
       "      <td>executive</td>\n",
       "      <td>reserved</td>\n",
       "      <td>2010-09-11 23:55:00</td>\n",
       "      <td>-12,08995438</td>\n",
       "      <td>-76,92626953</td>\n",
       "      <td>2010-09-12 01:07:00</td>\n",
       "      <td>-12,02223206</td>\n",
       "      <td>-77,10638428</td>\n",
       "      <td>drop off</td>\n",
       "      <td>-12,08311558</td>\n",
       "      <td>-76,9277072</td>\n",
       "      <td>2010-09-11 23:50:00</td>\n",
       "      <td>iPhone</td>\n",
       "      <td>4.0</td>\n",
       "      <td>5.0</td>\n",
       "    </tr>\n",
       "  </tbody>\n",
       "</table>\n",
       "</div>"
      ],
      "text/plain": [
       "                         journey_id                           user_id  \\\n",
       "0  23a1406fc6a11d866e3c82f22eed4d4c  0e9af5bbf1edfe591b54ecdfd7e91e26   \n",
       "1  dd2af4715d0dc16eded53afc0e243577  a553c46e3a22fb9c326aeb3d72b3334e   \n",
       "2  dd91e131888064bf7df3ce08f3d4b4ad  a553c46e3a22fb9c326aeb3d72b3334e   \n",
       "3  dd2af4715d0dc16eded53afc0e2466d0  a553c46e3a22fb9c326aeb3d72b3334e   \n",
       "4  85b7eabcf5d84e42dc7629b7d27781af  56772d544fdfa589a020a1ff894a86f7   \n",
       "\n",
       "                          driver_id                           taxi_id  \\\n",
       "0  583949a89a9ee17d19e3ca4f137b6b4c  b12f4f09c783e29fe0d0ea624530db56   \n",
       "1                               NaN                               NaN   \n",
       "2                               NaN                               NaN   \n",
       "3                               NaN                               NaN   \n",
       "4  d665fb9f75ef5d9cd0fd89479380ba78  0accdd3aa5a322f4129fa20b53278c69   \n",
       "\n",
       "        icon start_type            start_at     start_lat     start_lon  \\\n",
       "0  executive       asap 2010-11-16 16:44:00  -12,13983536  -77,02355957   \n",
       "1  executive       asap 2010-06-01 00:34:00  -12,13874817  -76,99536133   \n",
       "2  executive       asap 2010-05-31 05:01:00  -12,12453079  -77,02780151   \n",
       "3  executive       asap 2010-06-01 00:29:00  -12,13885117  -76,99530029   \n",
       "4  executive   reserved 2010-09-11 23:55:00  -12,08995438  -76,92626953   \n",
       "\n",
       "               end_at       end_lat       end_lon  end_state driver_start_lat  \\\n",
       "0 2010-11-16 17:29:00  -12,05537033   -77,0413208   drop off     -12,10825481   \n",
       "1 2010-06-01 00:37:00  -12,12465668  -77,02886963  not found              NaN   \n",
       "2 2010-05-31 05:04:00  -12,13883209  -76,99530029  not found              NaN   \n",
       "3 2010-06-01 00:32:00  -12,12458801  -77,02896118  not found              NaN   \n",
       "4 2010-09-12 01:07:00  -12,02223206  -77,10638428   drop off     -12,08311558   \n",
       "\n",
       "  driver_start_lon          arrived_at  source  driver_score  rider_score  \n",
       "0      -77,0272739 2010-11-16 17:02:00  iPhone           5.0          5.0  \n",
       "1              NaN                 NaT  iPhone           NaN          NaN  \n",
       "2              NaN                 NaT  iPhone           NaN          NaN  \n",
       "3              NaN                 NaT  iPhone           NaN          NaN  \n",
       "4      -76,9277072 2010-09-11 23:50:00  iPhone           4.0          5.0  "
      ]
     },
     "execution_count": 290,
     "metadata": {},
     "output_type": "execute_result"
    }
   ],
   "source": [
    "data.head()"
   ]
  },
  {
   "cell_type": "code",
   "execution_count": 292,
   "id": "0f2aa525",
   "metadata": {},
   "outputs": [
    {
     "data": {
      "text/plain": [
       "<AxesSubplot:>"
      ]
     },
     "execution_count": 292,
     "metadata": {},
     "output_type": "execute_result"
    },
    {
     "data": {
      "image/png": "[encoded data removed]",
      "text/plain": [
       "<Figure size 432x288 with 1 Axes>"
      ]
     },
     "metadata": {
      "needs_background": "light"
     },
     "output_type": "display_data"
    }
   ],
   "source": [
    "data.source.hist()"
   ]
  },
  {
   "cell_type": "code",
   "execution_count": 314,
   "id": "16108036",
   "metadata": {},
   "outputs": [
    {
     "data": {
      "text/plain": [
       "'iPhone'"
      ]
     },
     "execution_count": 314,
     "metadata": {},
     "output_type": "execute_result"
    }
   ],
   "source": [
    "(data.source.value_counts(normalize=True)*100).idxmax()"
   ]
  },
  {
   "cell_type": "code",
   "execution_count": 315,
   "id": "1e364560",
   "metadata": {},
   "outputs": [
    {
     "data": {
      "text/plain": [
       "iPhone     42.374282\n",
       "web        33.195580\n",
       "Android    21.354620\n",
       "iPad        2.483905\n",
       "Wap         0.591613\n",
       "Name: source, dtype: float64"
      ]
     },
     "execution_count": 315,
     "metadata": {},
     "output_type": "execute_result"
    }
   ],
   "source": [
    "(data.source.value_counts(normalize=True)*100)"
   ]
  },
  {
   "cell_type": "code",
   "execution_count": 316,
   "id": "a7c36699",
   "metadata": {},
   "outputs": [
    {
     "data": {
      "text/html": [
       "<div>\n",
       "<style scoped>\n",
       "    .dataframe tbody tr th:only-of-type {\n",
       "        vertical-align: middle;\n",
       "    }\n",
       "\n",
       "    .dataframe tbody tr th {\n",
       "        vertical-align: top;\n",
       "    }\n",
       "\n",
       "    .dataframe thead th {\n",
       "        text-align: right;\n",
       "    }\n",
       "</style>\n",
       "<table border=\"1\" class=\"dataframe\">\n",
       "  <thead>\n",
       "    <tr style=\"text-align: right;\">\n",
       "      <th></th>\n",
       "      <th>journey_id</th>\n",
       "      <th>user_id</th>\n",
       "      <th>driver_id</th>\n",
       "      <th>taxi_id</th>\n",
       "      <th>icon</th>\n",
       "      <th>start_type</th>\n",
       "      <th>start_at</th>\n",
       "      <th>start_lat</th>\n",
       "      <th>start_lon</th>\n",
       "      <th>end_at</th>\n",
       "      <th>end_lat</th>\n",
       "      <th>end_lon</th>\n",
       "      <th>end_state</th>\n",
       "      <th>driver_start_lat</th>\n",
       "      <th>driver_start_lon</th>\n",
       "      <th>arrived_at</th>\n",
       "      <th>source</th>\n",
       "      <th>driver_score</th>\n",
       "      <th>rider_score</th>\n",
       "    </tr>\n",
       "  </thead>\n",
       "  <tbody>\n",
       "    <tr>\n",
       "      <th>0</th>\n",
       "      <td>23a1406fc6a11d866e3c82f22eed4d4c</td>\n",
       "      <td>0e9af5bbf1edfe591b54ecdfd7e91e26</td>\n",
       "      <td>583949a89a9ee17d19e3ca4f137b6b4c</td>\n",
       "      <td>b12f4f09c783e29fe0d0ea624530db56</td>\n",
       "      <td>executive</td>\n",
       "      <td>asap</td>\n",
       "      <td>2010-11-16 16:44:00</td>\n",
       "      <td>-12,13983536</td>\n",
       "      <td>-77,02355957</td>\n",
       "      <td>2010-11-16 17:29:00</td>\n",
       "      <td>-12,05537033</td>\n",
       "      <td>-77,0413208</td>\n",
       "      <td>drop off</td>\n",
       "      <td>-12,10825481</td>\n",
       "      <td>-77,0272739</td>\n",
       "      <td>2010-11-16 17:02:00</td>\n",
       "      <td>iPhone</td>\n",
       "      <td>5.0</td>\n",
       "      <td>5.0</td>\n",
       "    </tr>\n",
       "    <tr>\n",
       "      <th>1</th>\n",
       "      <td>dd2af4715d0dc16eded53afc0e243577</td>\n",
       "      <td>a553c46e3a22fb9c326aeb3d72b3334e</td>\n",
       "      <td>NaN</td>\n",
       "      <td>NaN</td>\n",
       "      <td>executive</td>\n",
       "      <td>asap</td>\n",
       "      <td>2010-06-01 00:34:00</td>\n",
       "      <td>-12,13874817</td>\n",
       "      <td>-76,99536133</td>\n",
       "      <td>2010-06-01 00:37:00</td>\n",
       "      <td>-12,12465668</td>\n",
       "      <td>-77,02886963</td>\n",
       "      <td>not found</td>\n",
       "      <td>NaN</td>\n",
       "      <td>NaN</td>\n",
       "      <td>NaT</td>\n",
       "      <td>iPhone</td>\n",
       "      <td>NaN</td>\n",
       "      <td>NaN</td>\n",
       "    </tr>\n",
       "    <tr>\n",
       "      <th>2</th>\n",
       "      <td>dd91e131888064bf7df3ce08f3d4b4ad</td>\n",
       "      <td>a553c46e3a22fb9c326aeb3d72b3334e</td>\n",
       "      <td>NaN</td>\n",
       "      <td>NaN</td>\n",
       "      <td>executive</td>\n",
       "      <td>asap</td>\n",
       "      <td>2010-05-31 05:01:00</td>\n",
       "      <td>-12,12453079</td>\n",
       "      <td>-77,02780151</td>\n",
       "      <td>2010-05-31 05:04:00</td>\n",
       "      <td>-12,13883209</td>\n",
       "      <td>-76,99530029</td>\n",
       "      <td>not found</td>\n",
       "      <td>NaN</td>\n",
       "      <td>NaN</td>\n",
       "      <td>NaT</td>\n",
       "      <td>iPhone</td>\n",
       "      <td>NaN</td>\n",
       "      <td>NaN</td>\n",
       "    </tr>\n",
       "    <tr>\n",
       "      <th>3</th>\n",
       "      <td>dd2af4715d0dc16eded53afc0e2466d0</td>\n",
       "      <td>a553c46e3a22fb9c326aeb3d72b3334e</td>\n",
       "      <td>NaN</td>\n",
       "      <td>NaN</td>\n",
       "      <td>executive</td>\n",
       "      <td>asap</td>\n",
       "      <td>2010-06-01 00:29:00</td>\n",
       "      <td>-12,13885117</td>\n",
       "      <td>-76,99530029</td>\n",
       "      <td>2010-06-01 00:32:00</td>\n",
       "      <td>-12,12458801</td>\n",
       "      <td>-77,02896118</td>\n",
       "      <td>not found</td>\n",
       "      <td>NaN</td>\n",
       "      <td>NaN</td>\n",
       "      <td>NaT</td>\n",
       "      <td>iPhone</td>\n",
       "      <td>NaN</td>\n",
       "      <td>NaN</td>\n",
       "    </tr>\n",
       "    <tr>\n",
       "      <th>4</th>\n",
       "      <td>85b7eabcf5d84e42dc7629b7d27781af</td>\n",
       "      <td>56772d544fdfa589a020a1ff894a86f7</td>\n",
       "      <td>d665fb9f75ef5d9cd0fd89479380ba78</td>\n",
       "      <td>0accdd3aa5a322f4129fa20b53278c69</td>\n",
       "      <td>executive</td>\n",
       "      <td>reserved</td>\n",
       "      <td>2010-09-11 23:55:00</td>\n",
       "      <td>-12,08995438</td>\n",
       "      <td>-76,92626953</td>\n",
       "      <td>2010-09-12 01:07:00</td>\n",
       "      <td>-12,02223206</td>\n",
       "      <td>-77,10638428</td>\n",
       "      <td>drop off</td>\n",
       "      <td>-12,08311558</td>\n",
       "      <td>-76,9277072</td>\n",
       "      <td>2010-09-11 23:50:00</td>\n",
       "      <td>iPhone</td>\n",
       "      <td>4.0</td>\n",
       "      <td>5.0</td>\n",
       "    </tr>\n",
       "  </tbody>\n",
       "</table>\n",
       "</div>"
      ],
      "text/plain": [
       "                         journey_id                           user_id  \\\n",
       "0  23a1406fc6a11d866e3c82f22eed4d4c  0e9af5bbf1edfe591b54ecdfd7e91e26   \n",
       "1  dd2af4715d0dc16eded53afc0e243577  a553c46e3a22fb9c326aeb3d72b3334e   \n",
       "2  dd91e131888064bf7df3ce08f3d4b4ad  a553c46e3a22fb9c326aeb3d72b3334e   \n",
       "3  dd2af4715d0dc16eded53afc0e2466d0  a553c46e3a22fb9c326aeb3d72b3334e   \n",
       "4  85b7eabcf5d84e42dc7629b7d27781af  56772d544fdfa589a020a1ff894a86f7   \n",
       "\n",
       "                          driver_id                           taxi_id  \\\n",
       "0  583949a89a9ee17d19e3ca4f137b6b4c  b12f4f09c783e29fe0d0ea624530db56   \n",
       "1                               NaN                               NaN   \n",
       "2                               NaN                               NaN   \n",
       "3                               NaN                               NaN   \n",
       "4  d665fb9f75ef5d9cd0fd89479380ba78  0accdd3aa5a322f4129fa20b53278c69   \n",
       "\n",
       "        icon start_type            start_at     start_lat     start_lon  \\\n",
       "0  executive       asap 2010-11-16 16:44:00  -12,13983536  -77,02355957   \n",
       "1  executive       asap 2010-06-01 00:34:00  -12,13874817  -76,99536133   \n",
       "2  executive       asap 2010-05-31 05:01:00  -12,12453079  -77,02780151   \n",
       "3  executive       asap 2010-06-01 00:29:00  -12,13885117  -76,99530029   \n",
       "4  executive   reserved 2010-09-11 23:55:00  -12,08995438  -76,92626953   \n",
       "\n",
       "               end_at       end_lat       end_lon  end_state driver_start_lat  \\\n",
       "0 2010-11-16 17:29:00  -12,05537033   -77,0413208   drop off     -12,10825481   \n",
       "1 2010-06-01 00:37:00  -12,12465668  -77,02886963  not found              NaN   \n",
       "2 2010-05-31 05:04:00  -12,13883209  -76,99530029  not found              NaN   \n",
       "3 2010-06-01 00:32:00  -12,12458801  -77,02896118  not found              NaN   \n",
       "4 2010-09-12 01:07:00  -12,02223206  -77,10638428   drop off     -12,08311558   \n",
       "\n",
       "  driver_start_lon          arrived_at  source  driver_score  rider_score  \n",
       "0      -77,0272739 2010-11-16 17:02:00  iPhone           5.0          5.0  \n",
       "1              NaN                 NaT  iPhone           NaN          NaN  \n",
       "2              NaN                 NaT  iPhone           NaN          NaN  \n",
       "3              NaN                 NaT  iPhone           NaN          NaN  \n",
       "4      -76,9277072 2010-09-11 23:50:00  iPhone           4.0          5.0  "
      ]
     },
     "execution_count": 316,
     "metadata": {},
     "output_type": "execute_result"
    }
   ],
   "source": [
    "data.head()"
   ]
  },
  {
   "cell_type": "markdown",
   "id": "f173d600",
   "metadata": {},
   "source": [
    "10) Проверим, как распределены оценки водителей (driver_score). Для подготовки данных выполните следующие шаги:\n",
    "- Посчитайте частоту встречаемости каждой из оценок\n",
    "- Переведите в проценты и округлите до 2 знаков после точки (.mul(100).round(2))\n",
    "- Сбросьте индексы\n",
    "- Переименуйте колонки в driver_score и percentage\n",
    "- Отсортируйте по driver_score в порядке возрастания (от 0 до 5)\n",
    "- Запишите результат в driver_score_counts\n",
    "Полезные функции:\n",
    ".mul() – умножение, более удобный вариант для использования в цепочке методов \n",
    ".round() – округление\n",
    ".reset_index() – сбросить индекс\n",
    ".value_counts() – сколько раз встречается каждое значение переменной"
   ]
  },
  {
   "cell_type": "code",
   "execution_count": 334,
   "id": "d79a9caa",
   "metadata": {},
   "outputs": [
    {
     "data": {
      "text/html": [
       "<div>\n",
       "<style scoped>\n",
       "    .dataframe tbody tr th:only-of-type {\n",
       "        vertical-align: middle;\n",
       "    }\n",
       "\n",
       "    .dataframe tbody tr th {\n",
       "        vertical-align: top;\n",
       "    }\n",
       "\n",
       "    .dataframe thead th {\n",
       "        text-align: right;\n",
       "    }\n",
       "</style>\n",
       "<table border=\"1\" class=\"dataframe\">\n",
       "  <thead>\n",
       "    <tr style=\"text-align: right;\">\n",
       "      <th></th>\n",
       "      <th>driver_score</th>\n",
       "      <th>percentage</th>\n",
       "    </tr>\n",
       "  </thead>\n",
       "  <tbody>\n",
       "    <tr>\n",
       "      <th>2</th>\n",
       "      <td>0.0</td>\n",
       "      <td>14.30</td>\n",
       "    </tr>\n",
       "    <tr>\n",
       "      <th>4</th>\n",
       "      <td>1.0</td>\n",
       "      <td>1.23</td>\n",
       "    </tr>\n",
       "    <tr>\n",
       "      <th>5</th>\n",
       "      <td>2.0</td>\n",
       "      <td>0.81</td>\n",
       "    </tr>\n",
       "    <tr>\n",
       "      <th>3</th>\n",
       "      <td>3.0</td>\n",
       "      <td>2.97</td>\n",
       "    </tr>\n",
       "    <tr>\n",
       "      <th>1</th>\n",
       "      <td>4.0</td>\n",
       "      <td>21.88</td>\n",
       "    </tr>\n",
       "    <tr>\n",
       "      <th>0</th>\n",
       "      <td>5.0</td>\n",
       "      <td>58.81</td>\n",
       "    </tr>\n",
       "  </tbody>\n",
       "</table>\n",
       "</div>"
      ],
      "text/plain": [
       "   driver_score  percentage\n",
       "2           0.0       14.30\n",
       "4           1.0        1.23\n",
       "5           2.0        0.81\n",
       "3           3.0        2.97\n",
       "1           4.0       21.88\n",
       "0           5.0       58.81"
      ]
     },
     "execution_count": 334,
     "metadata": {},
     "output_type": "execute_result"
    }
   ],
   "source": [
    "driver_score_counts=data.driver_score. \\\n",
    "    value_counts(normalize=True). \\\n",
    "        mul(100). \\\n",
    "            round(2). \\\n",
    "                reset_index(). \\\n",
    "                    rename(columns={\"driver_score\":\"percentage\",\"index\":\"driver_score\"}). \\\n",
    "                        sort_values(by=\"driver_score\")\n",
    "driver_score_counts"
   ]
  },
  {
   "cell_type": "markdown",
   "id": "cfa8f3ff",
   "metadata": {},
   "source": [
    "11) Теперь строим график! (task11.png) Сначала импортируем библиотеки:\n",
    "import seaborn as sns\n",
    "import matplotlib.pyplot as plt\n",
    "Укажите, какую из четырех строчек в нижепредставленном коде нужно исправить, чтобы получить следующий график:\n",
    "ax = sns.barplot(x=driver_score, y=percentage, data=driver_score_counts, color='blue', alpha=0.5)\n",
    "ax.set(xlabel='Driver score', ylabel='Percentage')\n",
    "sns.despine()  # убрать часть рамки графика\n",
    "plt.show()"
   ]
  },
  {
   "cell_type": "code",
   "execution_count": 335,
   "id": "5f0dae70",
   "metadata": {},
   "outputs": [],
   "source": [
    "import seaborn as sns\n",
    "import matplotlib.pyplot as plt"
   ]
  },
  {
   "cell_type": "code",
   "execution_count": 343,
   "id": "22f50a78",
   "metadata": {},
   "outputs": [
    {
     "data": {
      "image/png": "[encoded data removed]",
      "text/plain": [
       "<Figure size 432x288 with 1 Axes>"
      ]
     },
     "metadata": {
      "needs_background": "light"
     },
     "output_type": "display_data"
    }
   ],
   "source": [
    "ax = sns.barplot(x=driver_score_counts.driver_score, y=driver_score_counts.percentage, data=driver_score_counts, color='blue', alpha=0.4)\n",
    "ax.set(xlabel='Driver score', ylabel='Percentage')\n",
    "sns.despine()  # убрать часть рамки графика\n",
    "plt.show()"
   ]
  },
  {
   "cell_type": "markdown",
   "id": "1516327d",
   "metadata": {},
   "source": [
    "12) 💀 Сложное задание! 💀\n",
    "Проделайте аналогичные шаги для rider_score (оценок клиентов водителями), не забыв построить график. В чем его отличие от распределения оценок водителей?"
   ]
  },
  {
   "cell_type": "code",
   "execution_count": 346,
   "id": "e1219240",
   "metadata": {},
   "outputs": [
    {
     "data": {
      "text/html": [
       "<div>\n",
       "<style scoped>\n",
       "    .dataframe tbody tr th:only-of-type {\n",
       "        vertical-align: middle;\n",
       "    }\n",
       "\n",
       "    .dataframe tbody tr th {\n",
       "        vertical-align: top;\n",
       "    }\n",
       "\n",
       "    .dataframe thead th {\n",
       "        text-align: right;\n",
       "    }\n",
       "</style>\n",
       "<table border=\"1\" class=\"dataframe\">\n",
       "  <thead>\n",
       "    <tr style=\"text-align: right;\">\n",
       "      <th></th>\n",
       "      <th>rider_score</th>\n",
       "      <th>percentage</th>\n",
       "    </tr>\n",
       "  </thead>\n",
       "  <tbody>\n",
       "    <tr>\n",
       "      <th>2</th>\n",
       "      <td>0.0</td>\n",
       "      <td>2.29</td>\n",
       "    </tr>\n",
       "    <tr>\n",
       "      <th>4</th>\n",
       "      <td>1.0</td>\n",
       "      <td>0.21</td>\n",
       "    </tr>\n",
       "    <tr>\n",
       "      <th>5</th>\n",
       "      <td>2.0</td>\n",
       "      <td>0.19</td>\n",
       "    </tr>\n",
       "    <tr>\n",
       "      <th>3</th>\n",
       "      <td>3.0</td>\n",
       "      <td>1.38</td>\n",
       "    </tr>\n",
       "    <tr>\n",
       "      <th>1</th>\n",
       "      <td>4.0</td>\n",
       "      <td>8.83</td>\n",
       "    </tr>\n",
       "    <tr>\n",
       "      <th>0</th>\n",
       "      <td>5.0</td>\n",
       "      <td>87.10</td>\n",
       "    </tr>\n",
       "  </tbody>\n",
       "</table>\n",
       "</div>"
      ],
      "text/plain": [
       "   rider_score  percentage\n",
       "2          0.0        2.29\n",
       "4          1.0        0.21\n",
       "5          2.0        0.19\n",
       "3          3.0        1.38\n",
       "1          4.0        8.83\n",
       "0          5.0       87.10"
      ]
     },
     "execution_count": 346,
     "metadata": {},
     "output_type": "execute_result"
    }
   ],
   "source": [
    "rider_score_counts=data.rider_score. \\\n",
    "    value_counts(normalize=True). \\\n",
    "        mul(100). \\\n",
    "            round(2). \\\n",
    "                reset_index(). \\\n",
    "                    rename(columns={\"rider_score\":\"percentage\",\"index\":\"rider_score\"}). \\\n",
    "                        sort_values(by=\"rider_score\")\n",
    "rider_score_counts"
   ]
  },
  {
   "cell_type": "code",
   "execution_count": 350,
   "id": "90dc24fc",
   "metadata": {},
   "outputs": [
    {
     "data": {
      "image/png": "[encoded data removed]",
      "text/plain": [
       "<Figure size 432x288 with 1 Axes>"
      ]
     },
     "metadata": {
      "needs_background": "light"
     },
     "output_type": "display_data"
    }
   ],
   "source": [
    "ax2=sns.barplot(x=rider_score_counts.rider_score,y=rider_score_counts.percentage,data=rider_score_counts,color=\"g\",alpha=0.7)\n",
    "ax2.set(xlabel=\"Rider Score\",ylabel=\"Percentage\")\n",
    "sns.despine()\n",
    "plt.show()"
   ]
  },
  {
   "cell_type": "code",
   "execution_count": null,
   "id": "be92ec17",
   "metadata": {},
   "outputs": [],
   "source": []
  }
 ],
 "metadata": {
  "kernelspec": {
   "display_name": "Python 3",
   "language": "python",
   "name": "python3"
  },
  "language_info": {
   "codemirror_mode": {
    "name": "ipython",
    "version": 3
   },
   "file_extension": ".py",
   "mimetype": "text/x-python",
   "name": "python",
   "nbconvert_exporter": "python",
   "pygments_lexer": "ipython3",
   "version": "3.8.8"
  }
 },
 "nbformat": 4,
 "nbformat_minor": 5
}
